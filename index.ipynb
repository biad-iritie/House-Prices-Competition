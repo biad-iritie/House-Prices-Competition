{
 "cells": [
  {
   "cell_type": "markdown",
   "metadata": {},
   "source": [
    "# House Prices Competition\n",
    "\n",
    "The goal of this competition is to predict the price of each home in Ames, Iowa. We have in our disposition a dataset with 79 explanatory variables describing (almost) every aspect of residential homes (*full description of each column in **data_description.txt***).\n",
    "\n",
    "Here's a brief version of what you'll find in the data description file. \n",
    "\n",
    "- SalePrice - the property's sale price in dollars. This is the target variable that you're trying to predict.\n",
    "- MSSubClass: The building class\n",
    "- MSZoning: The general zoning classification\n",
    "- LotFrontage: Linear feet of street connected to property\n",
    "- LotArea: Lot size in square feet\n",
    "- Street: Type of road access\n",
    "- Alley: Type of alley access\n",
    "- LotShape: General shape of property\n",
    "- LandContour: Flatness of the property\n",
    "- Utilities: Type of utilities available\n",
    "- LotConfig: Lot configuration\n",
    "- LandSlope: Slope of property\n",
    "- Neighborhood: Physical locations within Ames city limits\n",
    "- Condition1: Proximity to main road or railroad\n",
    "- Condition2: Proximity to main road or railroad (if a second is present)\n",
    "- BldgType: Type of dwelling\n",
    "- HouseStyle: Style of dwelling\n",
    "- OverallQual: Overall material and finish quality\n",
    "- OverallCond: Overall condition rating\n",
    "- YearBuilt: Original construction date\n",
    "- YearRemodAdd: Remodel date\n",
    "- RoofStyle: Type of roof\n",
    "- RoofMatl: Roof material\n",
    "- Exterior1st: Exterior covering on house\n",
    "- Exterior2nd: Exterior covering on house (if more than one material)\n",
    "- MasVnrType: Masonry veneer type\n",
    "- MasVnrArea: Masonry veneer area in square feet\n",
    "- ExterQual: Exterior material quality\n",
    "- ExterCond: Present condition of the material on the exterior\n",
    "- Foundation: Type of foundation\n",
    "- BsmtQual: Height of the basement\n",
    "- BsmtCond: General condition of the basement\n",
    "- BsmtExposure: Walkout or garden level basement walls\n",
    "- BsmtFinType1: Quality of basement finished area\n",
    "- BsmtFinSF1: Type 1 finished square feet\n",
    "- BsmtFinType2: Quality of second finished area (if present)\n",
    "- BsmtFinSF2: Type 2 finished square feet\n",
    "- BsmtUnfSF: Unfinished square feet of basement area\n",
    "- TotalBsmtSF: Total square feet of basement area\n",
    "- Heating: Type of heating\n",
    "- HeatingQC: Heating quality and condition\n",
    "- CentralAir: Central air conditioning\n",
    "- Electrical: Electrical system\n",
    "- 1stFlrSF: First Floor square feet\n",
    "- 2ndFlrSF: Second floor square feet\n",
    "- LowQualFinSF: Low quality finished square feet (all floors)\n",
    "- GrLivArea: Above grade (ground) living area square feet\n",
    "- BsmtFullBath: Basement full bathrooms\n",
    "- BsmtHalfBath: Basement half bathrooms\n",
    "- FullBath: Full bathrooms above grade\n",
    "- HalfBath: Half baths above grade\n",
    "- Bedroom: Number of bedrooms above basement level\n",
    "- Kitchen: Number of kitchens\n",
    "- KitchenQual: Kitchen quality\n",
    "- TotRmsAbvGrd: Total rooms above grade (does not include bathrooms)\n",
    "- Functional: Home functionality rating\n",
    "- Fireplaces: Number of fireplaces\n",
    "- FireplaceQu: Fireplace quality\n",
    "- GarageType: Garage location\n",
    "- GarageYrBlt: Year garage was built\n",
    "- GarageFinish: Interior finish of the garage\n",
    "- GarageCars: Size of garage in car capacity\n",
    "- GarageArea: Size of garage in square feet\n",
    "- GarageQual: Garage quality\n",
    "- GarageCond: Garage condition\n",
    "- PavedDrive: Paved driveway\n",
    "- WoodDeckSF: Wood deck area in square feet\n",
    "- OpenPorchSF: Open porch area in square feet\n",
    "- EnclosedPorch: Enclosed porch area in square feet\n",
    "- 3SsnPorch: Three season porch area in square feet\n",
    "- ScreenPorch: Screen porch area in square feet\n",
    "- PoolArea: Pool area in square feet\n",
    "- PoolQC: Pool quality\n",
    "- Fence: Fence quality\n",
    "- MiscFeature: Miscellaneous feature not covered in other categories\n",
    "- MiscVal: $Value of miscellaneous feature\n",
    "- MoSold: Month Sold\n",
    "- YrSold: Year Sold\n",
    "- SaleType: Type of sale\n",
    "- SaleCondition: Condition of sale\n",
    "\n",
    "## 1- Data exploration"
   ]
  },
  {
   "cell_type": "code",
   "execution_count": 1,
   "metadata": {},
   "outputs": [
    {
     "name": "stdout",
     "output_type": "stream",
     "text": [
      "train data shape: (1460, 81)\n",
      "test data shape: (1459, 80)\n"
     ]
    }
   ],
   "source": [
    "import pandas as pd \n",
    "import numpy as np\n",
    "\n",
    "train = pd.read_csv(\"train.csv\")\n",
    "test = pd.read_csv(\"test.csv\")\n",
    "\n",
    "# Check out the size of the data\n",
    "print(\"train data shape: {}\".format(train.shape))\n",
    "print(\"test data shape: {}\".format(test.shape))"
   ]
  },
  {
   "cell_type": "code",
   "execution_count": 2,
   "metadata": {},
   "outputs": [
    {
     "data": {
      "text/html": [
       "<div>\n",
       "<style scoped>\n",
       "    .dataframe tbody tr th:only-of-type {\n",
       "        vertical-align: middle;\n",
       "    }\n",
       "\n",
       "    .dataframe tbody tr th {\n",
       "        vertical-align: top;\n",
       "    }\n",
       "\n",
       "    .dataframe thead th {\n",
       "        text-align: right;\n",
       "    }\n",
       "</style>\n",
       "<table border=\"1\" class=\"dataframe\">\n",
       "  <thead>\n",
       "    <tr style=\"text-align: right;\">\n",
       "      <th></th>\n",
       "      <th>Id</th>\n",
       "      <th>MSSubClass</th>\n",
       "      <th>MSZoning</th>\n",
       "      <th>LotFrontage</th>\n",
       "      <th>LotArea</th>\n",
       "      <th>Street</th>\n",
       "      <th>Alley</th>\n",
       "      <th>LotShape</th>\n",
       "      <th>LandContour</th>\n",
       "      <th>Utilities</th>\n",
       "      <th>...</th>\n",
       "      <th>PoolArea</th>\n",
       "      <th>PoolQC</th>\n",
       "      <th>Fence</th>\n",
       "      <th>MiscFeature</th>\n",
       "      <th>MiscVal</th>\n",
       "      <th>MoSold</th>\n",
       "      <th>YrSold</th>\n",
       "      <th>SaleType</th>\n",
       "      <th>SaleCondition</th>\n",
       "      <th>SalePrice</th>\n",
       "    </tr>\n",
       "  </thead>\n",
       "  <tbody>\n",
       "    <tr>\n",
       "      <th>0</th>\n",
       "      <td>1</td>\n",
       "      <td>60</td>\n",
       "      <td>RL</td>\n",
       "      <td>65.0</td>\n",
       "      <td>8450</td>\n",
       "      <td>Pave</td>\n",
       "      <td>NaN</td>\n",
       "      <td>Reg</td>\n",
       "      <td>Lvl</td>\n",
       "      <td>AllPub</td>\n",
       "      <td>...</td>\n",
       "      <td>0</td>\n",
       "      <td>NaN</td>\n",
       "      <td>NaN</td>\n",
       "      <td>NaN</td>\n",
       "      <td>0</td>\n",
       "      <td>2</td>\n",
       "      <td>2008</td>\n",
       "      <td>WD</td>\n",
       "      <td>Normal</td>\n",
       "      <td>208500</td>\n",
       "    </tr>\n",
       "    <tr>\n",
       "      <th>1</th>\n",
       "      <td>2</td>\n",
       "      <td>20</td>\n",
       "      <td>RL</td>\n",
       "      <td>80.0</td>\n",
       "      <td>9600</td>\n",
       "      <td>Pave</td>\n",
       "      <td>NaN</td>\n",
       "      <td>Reg</td>\n",
       "      <td>Lvl</td>\n",
       "      <td>AllPub</td>\n",
       "      <td>...</td>\n",
       "      <td>0</td>\n",
       "      <td>NaN</td>\n",
       "      <td>NaN</td>\n",
       "      <td>NaN</td>\n",
       "      <td>0</td>\n",
       "      <td>5</td>\n",
       "      <td>2007</td>\n",
       "      <td>WD</td>\n",
       "      <td>Normal</td>\n",
       "      <td>181500</td>\n",
       "    </tr>\n",
       "    <tr>\n",
       "      <th>2</th>\n",
       "      <td>3</td>\n",
       "      <td>60</td>\n",
       "      <td>RL</td>\n",
       "      <td>68.0</td>\n",
       "      <td>11250</td>\n",
       "      <td>Pave</td>\n",
       "      <td>NaN</td>\n",
       "      <td>IR1</td>\n",
       "      <td>Lvl</td>\n",
       "      <td>AllPub</td>\n",
       "      <td>...</td>\n",
       "      <td>0</td>\n",
       "      <td>NaN</td>\n",
       "      <td>NaN</td>\n",
       "      <td>NaN</td>\n",
       "      <td>0</td>\n",
       "      <td>9</td>\n",
       "      <td>2008</td>\n",
       "      <td>WD</td>\n",
       "      <td>Normal</td>\n",
       "      <td>223500</td>\n",
       "    </tr>\n",
       "    <tr>\n",
       "      <th>3</th>\n",
       "      <td>4</td>\n",
       "      <td>70</td>\n",
       "      <td>RL</td>\n",
       "      <td>60.0</td>\n",
       "      <td>9550</td>\n",
       "      <td>Pave</td>\n",
       "      <td>NaN</td>\n",
       "      <td>IR1</td>\n",
       "      <td>Lvl</td>\n",
       "      <td>AllPub</td>\n",
       "      <td>...</td>\n",
       "      <td>0</td>\n",
       "      <td>NaN</td>\n",
       "      <td>NaN</td>\n",
       "      <td>NaN</td>\n",
       "      <td>0</td>\n",
       "      <td>2</td>\n",
       "      <td>2006</td>\n",
       "      <td>WD</td>\n",
       "      <td>Abnorml</td>\n",
       "      <td>140000</td>\n",
       "    </tr>\n",
       "    <tr>\n",
       "      <th>4</th>\n",
       "      <td>5</td>\n",
       "      <td>60</td>\n",
       "      <td>RL</td>\n",
       "      <td>84.0</td>\n",
       "      <td>14260</td>\n",
       "      <td>Pave</td>\n",
       "      <td>NaN</td>\n",
       "      <td>IR1</td>\n",
       "      <td>Lvl</td>\n",
       "      <td>AllPub</td>\n",
       "      <td>...</td>\n",
       "      <td>0</td>\n",
       "      <td>NaN</td>\n",
       "      <td>NaN</td>\n",
       "      <td>NaN</td>\n",
       "      <td>0</td>\n",
       "      <td>12</td>\n",
       "      <td>2008</td>\n",
       "      <td>WD</td>\n",
       "      <td>Normal</td>\n",
       "      <td>250000</td>\n",
       "    </tr>\n",
       "  </tbody>\n",
       "</table>\n",
       "<p>5 rows × 81 columns</p>\n",
       "</div>"
      ],
      "text/plain": [
       "   Id  MSSubClass MSZoning  LotFrontage  LotArea Street Alley LotShape  \\\n",
       "0   1          60       RL         65.0     8450   Pave   NaN      Reg   \n",
       "1   2          20       RL         80.0     9600   Pave   NaN      Reg   \n",
       "2   3          60       RL         68.0    11250   Pave   NaN      IR1   \n",
       "3   4          70       RL         60.0     9550   Pave   NaN      IR1   \n",
       "4   5          60       RL         84.0    14260   Pave   NaN      IR1   \n",
       "\n",
       "  LandContour Utilities  ... PoolArea PoolQC Fence MiscFeature MiscVal MoSold  \\\n",
       "0         Lvl    AllPub  ...        0    NaN   NaN         NaN       0      2   \n",
       "1         Lvl    AllPub  ...        0    NaN   NaN         NaN       0      5   \n",
       "2         Lvl    AllPub  ...        0    NaN   NaN         NaN       0      9   \n",
       "3         Lvl    AllPub  ...        0    NaN   NaN         NaN       0      2   \n",
       "4         Lvl    AllPub  ...        0    NaN   NaN         NaN       0     12   \n",
       "\n",
       "  YrSold  SaleType  SaleCondition  SalePrice  \n",
       "0   2008        WD         Normal     208500  \n",
       "1   2007        WD         Normal     181500  \n",
       "2   2008        WD         Normal     223500  \n",
       "3   2006        WD        Abnorml     140000  \n",
       "4   2008        WD         Normal     250000  \n",
       "\n",
       "[5 rows x 81 columns]"
      ]
     },
     "execution_count": 2,
     "metadata": {},
     "output_type": "execute_result"
    }
   ],
   "source": [
    "# Look at few rows \n",
    "train.head()"
   ]
  },
  {
   "cell_type": "markdown",
   "metadata": {},
   "source": [
    "For our prediction, the target variable will be column *SalePrice*."
   ]
  },
  {
   "cell_type": "code",
   "execution_count": 3,
   "metadata": {},
   "outputs": [
    {
     "data": {
      "text/plain": [
       "count      1460.000000\n",
       "mean     180921.195890\n",
       "std       79442.502883\n",
       "min       34900.000000\n",
       "25%      129975.000000\n",
       "50%      163000.000000\n",
       "75%      214000.000000\n",
       "max      755000.000000\n",
       "Name: SalePrice, dtype: float64"
      ]
     },
     "execution_count": 3,
     "metadata": {},
     "output_type": "execute_result"
    }
   ],
   "source": [
    "import matplotlib.pyplot as plt\n",
    "plt.style.use(style='ggplot')\n",
    "plt.rcParams['figure.figsize'] = (10,6)\n",
    "\n",
    "train.SalePrice.describe()"
   ]
  },
  {
   "cell_type": "code",
   "execution_count": 4,
   "metadata": {},
   "outputs": [
    {
     "name": "stdout",
     "output_type": "stream",
     "text": [
      "Skew is :1.88\n"
     ]
    },
    {
     "data": {
      "image/png": "[encoded data removed]",
      "text/plain": [
       "<Figure size 720x432 with 1 Axes>"
      ]
     },
     "metadata": {},
     "output_type": "display_data"
    }
   ],
   "source": [
    "# Distribution of SalePrice\n",
    "print(\"Skew is :{:.2f}\".format(train.SalePrice.skew()))\n",
    "plt.hist(train.SalePrice)\n",
    "plt.show()"
   ]
  },
  {
   "cell_type": "markdown",
   "metadata": {},
   "source": [
    "The distribution is positively skewed (right skew). Now we have to transform the distrbution in the goal to have a **normal distribution** for our model."
   ]
  },
  {
   "cell_type": "code",
   "execution_count": 5,
   "metadata": {},
   "outputs": [
    {
     "name": "stdout",
     "output_type": "stream",
     "text": [
      "Skew is :0.12\n"
     ]
    },
    {
     "data": {
      "image/png": "[encoded data removed]",
      "text/plain": [
       "<Figure size 720x432 with 1 Axes>"
      ]
     },
     "metadata": {},
     "output_type": "display_data"
    }
   ],
   "source": [
    "target = np.log(train.SalePrice)\n",
    "print(\"Skew is :{:.2f}\".format(target.skew()))\n",
    "plt.hist(target)\n",
    "plt.show()"
   ]
  },
  {
   "cell_type": "code",
   "execution_count": 6,
   "metadata": {},
   "outputs": [
    {
     "data": {
      "text/plain": [
       "Id                 int64\n",
       "MSSubClass         int64\n",
       "LotFrontage      float64\n",
       "LotArea            int64\n",
       "OverallQual        int64\n",
       "OverallCond        int64\n",
       "YearBuilt          int64\n",
       "YearRemodAdd       int64\n",
       "MasVnrArea       float64\n",
       "BsmtFinSF1         int64\n",
       "BsmtFinSF2         int64\n",
       "BsmtUnfSF          int64\n",
       "TotalBsmtSF        int64\n",
       "1stFlrSF           int64\n",
       "2ndFlrSF           int64\n",
       "LowQualFinSF       int64\n",
       "GrLivArea          int64\n",
       "BsmtFullBath       int64\n",
       "BsmtHalfBath       int64\n",
       "FullBath           int64\n",
       "HalfBath           int64\n",
       "BedroomAbvGr       int64\n",
       "KitchenAbvGr       int64\n",
       "TotRmsAbvGrd       int64\n",
       "Fireplaces         int64\n",
       "GarageYrBlt      float64\n",
       "GarageCars         int64\n",
       "GarageArea         int64\n",
       "WoodDeckSF         int64\n",
       "OpenPorchSF        int64\n",
       "EnclosedPorch      int64\n",
       "3SsnPorch          int64\n",
       "ScreenPorch        int64\n",
       "PoolArea           int64\n",
       "MiscVal            int64\n",
       "MoSold             int64\n",
       "YrSold             int64\n",
       "SalePrice          int64\n",
       "dtype: object"
      ]
     },
     "execution_count": 6,
     "metadata": {},
     "output_type": "execute_result"
    }
   ],
   "source": [
    "# get the numeric columns\n",
    "numeric_features = train.select_dtypes(include=[np.number])\n",
    "numeric_features.dtypes"
   ]
  },
  {
   "cell_type": "code",
   "execution_count": 7,
   "metadata": {},
   "outputs": [
    {
     "name": "stdout",
     "output_type": "stream",
     "text": [
      "SalePrice      1.000000\n",
      "OverallQual    0.790982\n",
      "GrLivArea      0.708624\n",
      "GarageCars     0.640409\n",
      "GarageArea     0.623431\n",
      "Name: SalePrice, dtype: float64 \n",
      "\n",
      "YrSold          -0.028923\n",
      "OverallCond     -0.077856\n",
      "MSSubClass      -0.084284\n",
      "EnclosedPorch   -0.128578\n",
      "KitchenAbvGr    -0.135907\n",
      "Name: SalePrice, dtype: float64\n"
     ]
    }
   ],
   "source": [
    "# Check the correlation between the target and the numeric columns\n",
    "corr = numeric_features.corr()\n",
    "print(corr[\"SalePrice\"].sort_values(ascending=False)[:5] ,\"\\n\")\n",
    "print(corr[\"SalePrice\"].sort_values(ascending=False)[-5:])\n"
   ]
  },
  {
   "cell_type": "code",
   "execution_count": 8,
   "metadata": {},
   "outputs": [
    {
     "name": "stdout",
     "output_type": "stream",
     "text": [
      "[ 7  6  8  5  9  4 10  3  1  2]\n"
     ]
    }
   ],
   "source": [
    "# Let's dig OverallQual column\n",
    "print(train.OverallQual.unique())"
   ]
  },
  {
   "cell_type": "markdown",
   "metadata": {},
   "source": [
    "The values are between 1 to 10 inclusive.\n",
    "\n",
    "We can create a *pivot table* to further investigate the relationship between OverallQual and SalePrice. The Pandas docs demonstrate how to accomplish this task. We set index='OverallQual' and values='SalePrice'. We chose to look at the median here."
   ]
  },
  {
   "cell_type": "code",
   "execution_count": 9,
   "metadata": {},
   "outputs": [
    {
     "data": {
      "text/html": [
       "<div>\n",
       "<style scoped>\n",
       "    .dataframe tbody tr th:only-of-type {\n",
       "        vertical-align: middle;\n",
       "    }\n",
       "\n",
       "    .dataframe tbody tr th {\n",
       "        vertical-align: top;\n",
       "    }\n",
       "\n",
       "    .dataframe thead th {\n",
       "        text-align: right;\n",
       "    }\n",
       "</style>\n",
       "<table border=\"1\" class=\"dataframe\">\n",
       "  <thead>\n",
       "    <tr style=\"text-align: right;\">\n",
       "      <th></th>\n",
       "      <th>SalePrice</th>\n",
       "    </tr>\n",
       "    <tr>\n",
       "      <th>OverallQual</th>\n",
       "      <th></th>\n",
       "    </tr>\n",
       "  </thead>\n",
       "  <tbody>\n",
       "    <tr>\n",
       "      <th>1</th>\n",
       "      <td>50150</td>\n",
       "    </tr>\n",
       "    <tr>\n",
       "      <th>2</th>\n",
       "      <td>60000</td>\n",
       "    </tr>\n",
       "    <tr>\n",
       "      <th>3</th>\n",
       "      <td>86250</td>\n",
       "    </tr>\n",
       "    <tr>\n",
       "      <th>4</th>\n",
       "      <td>108000</td>\n",
       "    </tr>\n",
       "    <tr>\n",
       "      <th>5</th>\n",
       "      <td>133000</td>\n",
       "    </tr>\n",
       "    <tr>\n",
       "      <th>6</th>\n",
       "      <td>160000</td>\n",
       "    </tr>\n",
       "    <tr>\n",
       "      <th>7</th>\n",
       "      <td>200141</td>\n",
       "    </tr>\n",
       "    <tr>\n",
       "      <th>8</th>\n",
       "      <td>269750</td>\n",
       "    </tr>\n",
       "    <tr>\n",
       "      <th>9</th>\n",
       "      <td>345000</td>\n",
       "    </tr>\n",
       "    <tr>\n",
       "      <th>10</th>\n",
       "      <td>432390</td>\n",
       "    </tr>\n",
       "  </tbody>\n",
       "</table>\n",
       "</div>"
      ],
      "text/plain": [
       "             SalePrice\n",
       "OverallQual           \n",
       "1                50150\n",
       "2                60000\n",
       "3                86250\n",
       "4               108000\n",
       "5               133000\n",
       "6               160000\n",
       "7               200141\n",
       "8               269750\n",
       "9               345000\n",
       "10              432390"
      ]
     },
     "execution_count": 9,
     "metadata": {},
     "output_type": "execute_result"
    }
   ],
   "source": [
    "qual_Pivot = train.pivot_table('SalePrice',index='OverallQual', aggfunc='median')\n",
    "qual_Pivot"
   ]
  },
  {
   "cell_type": "code",
   "execution_count": 10,
   "metadata": {},
   "outputs": [
    {
     "data": {
      "image/png": "[encoded data removed]",
      "text/plain": [
       "<Figure size 720x432 with 1 Axes>"
      ]
     },
     "metadata": {},
     "output_type": "display_data"
    }
   ],
   "source": [
    "#Let plot the result\n",
    "qual_Pivot.plot(kind='bar')\n",
    "plt.xlabel(\"OverallQual\")\n",
    "plt.ylabel(\"Medium SalePrice\")\n",
    "plt.xticks(rotation=0)\n",
    "plt.show()"
   ]
  },
  {
   "cell_type": "markdown",
   "metadata": {},
   "source": [
    "Notice that the median sales price strictly increases as Overall Quality increases.\n",
    "\n",
    "Next, let’s use *plt.scatter()* to generate some scatter plots and visualize the relationship between the Ground Living Area GrLivArea and SalePrice."
   ]
  },
  {
   "cell_type": "code",
   "execution_count": 11,
   "metadata": {},
   "outputs": [
    {
     "data": {
      "image/png": "[encoded data removed]",
      "text/plain": [
       "<Figure size 720x432 with 1 Axes>"
      ]
     },
     "metadata": {},
     "output_type": "display_data"
    }
   ],
   "source": [
    "plt.scatter(x=train[\"GrLivArea\"],y=target)\n",
    "plt.xlabel(\"GrLivArea\")\n",
    "plt.ylabel(\"SalePrice\")\n",
    "plt.show()"
   ]
  },
  {
   "cell_type": "markdown",
   "metadata": {},
   "source": [
    "At first glance, we see that increases in living area correspond to increases in price. We will do the same for *GarageArea*."
   ]
  },
  {
   "cell_type": "code",
   "execution_count": 12,
   "metadata": {},
   "outputs": [
    {
     "data": {
      "image/png": "[encoded data removed]",
      "text/plain": [
       "<Figure size 720x432 with 1 Axes>"
      ]
     },
     "metadata": {},
     "output_type": "display_data"
    }
   ],
   "source": [
    "plt.scatter(x=train[\"GarageArea\"],y=target)\n",
    "plt.xlabel(\"GarageArea\")\n",
    "plt.ylabel(\"SalePrice\")\n",
    "plt.show()"
   ]
  },
  {
   "cell_type": "markdown",
   "metadata": {},
   "source": [
    "Seeing , we can notice some outliers that can affect a regression model by pulling our estimated regression line further away from the true population regression line. So we'll remove the outliers."
   ]
  },
  {
   "cell_type": "code",
   "execution_count": 13,
   "metadata": {},
   "outputs": [
    {
     "data": {
      "image/png": "[encoded data removed]",
      "text/plain": [
       "<Figure size 720x432 with 1 Axes>"
      ]
     },
     "metadata": {},
     "output_type": "display_data"
    }
   ],
   "source": [
    "train = train[train[\"GarageArea\"]<1200]\n",
    "plt.scatter(x=train[\"GarageArea\"],y=np.log(train.SalePrice))\n",
    "plt.xlim(-200,1600)\n",
    "plt.xlabel(\"GarageArea\")\n",
    "plt.ylabel(\"SalePrice\")\n",
    "plt.show()"
   ]
  },
  {
   "cell_type": "markdown",
   "metadata": {},
   "source": [
    "### Handle Missing Values"
   ]
  },
  {
   "cell_type": "code",
   "execution_count": 14,
   "metadata": {},
   "outputs": [
    {
     "data": {
      "text/html": [
       "<div>\n",
       "<style scoped>\n",
       "    .dataframe tbody tr th:only-of-type {\n",
       "        vertical-align: middle;\n",
       "    }\n",
       "\n",
       "    .dataframe tbody tr th {\n",
       "        vertical-align: top;\n",
       "    }\n",
       "\n",
       "    .dataframe thead th {\n",
       "        text-align: right;\n",
       "    }\n",
       "</style>\n",
       "<table border=\"1\" class=\"dataframe\">\n",
       "  <thead>\n",
       "    <tr style=\"text-align: right;\">\n",
       "      <th></th>\n",
       "      <th>Null Count</th>\n",
       "    </tr>\n",
       "    <tr>\n",
       "      <th>Features</th>\n",
       "      <th></th>\n",
       "    </tr>\n",
       "  </thead>\n",
       "  <tbody>\n",
       "    <tr>\n",
       "      <th>PoolQC</th>\n",
       "      <td>1449</td>\n",
       "    </tr>\n",
       "    <tr>\n",
       "      <th>MiscFeature</th>\n",
       "      <td>1402</td>\n",
       "    </tr>\n",
       "    <tr>\n",
       "      <th>Alley</th>\n",
       "      <td>1364</td>\n",
       "    </tr>\n",
       "    <tr>\n",
       "      <th>Fence</th>\n",
       "      <td>1174</td>\n",
       "    </tr>\n",
       "    <tr>\n",
       "      <th>FireplaceQu</th>\n",
       "      <td>689</td>\n",
       "    </tr>\n",
       "    <tr>\n",
       "      <th>LotFrontage</th>\n",
       "      <td>258</td>\n",
       "    </tr>\n",
       "    <tr>\n",
       "      <th>GarageYrBlt</th>\n",
       "      <td>81</td>\n",
       "    </tr>\n",
       "    <tr>\n",
       "      <th>GarageCond</th>\n",
       "      <td>81</td>\n",
       "    </tr>\n",
       "    <tr>\n",
       "      <th>GarageType</th>\n",
       "      <td>81</td>\n",
       "    </tr>\n",
       "    <tr>\n",
       "      <th>GarageFinish</th>\n",
       "      <td>81</td>\n",
       "    </tr>\n",
       "    <tr>\n",
       "      <th>GarageQual</th>\n",
       "      <td>81</td>\n",
       "    </tr>\n",
       "    <tr>\n",
       "      <th>BsmtFinType2</th>\n",
       "      <td>38</td>\n",
       "    </tr>\n",
       "    <tr>\n",
       "      <th>BsmtExposure</th>\n",
       "      <td>38</td>\n",
       "    </tr>\n",
       "    <tr>\n",
       "      <th>BsmtQual</th>\n",
       "      <td>37</td>\n",
       "    </tr>\n",
       "    <tr>\n",
       "      <th>BsmtCond</th>\n",
       "      <td>37</td>\n",
       "    </tr>\n",
       "    <tr>\n",
       "      <th>BsmtFinType1</th>\n",
       "      <td>37</td>\n",
       "    </tr>\n",
       "    <tr>\n",
       "      <th>MasVnrArea</th>\n",
       "      <td>8</td>\n",
       "    </tr>\n",
       "    <tr>\n",
       "      <th>MasVnrType</th>\n",
       "      <td>8</td>\n",
       "    </tr>\n",
       "    <tr>\n",
       "      <th>Electrical</th>\n",
       "      <td>1</td>\n",
       "    </tr>\n",
       "    <tr>\n",
       "      <th>Id</th>\n",
       "      <td>0</td>\n",
       "    </tr>\n",
       "    <tr>\n",
       "      <th>Functional</th>\n",
       "      <td>0</td>\n",
       "    </tr>\n",
       "    <tr>\n",
       "      <th>Fireplaces</th>\n",
       "      <td>0</td>\n",
       "    </tr>\n",
       "    <tr>\n",
       "      <th>KitchenQual</th>\n",
       "      <td>0</td>\n",
       "    </tr>\n",
       "    <tr>\n",
       "      <th>KitchenAbvGr</th>\n",
       "      <td>0</td>\n",
       "    </tr>\n",
       "    <tr>\n",
       "      <th>BedroomAbvGr</th>\n",
       "      <td>0</td>\n",
       "    </tr>\n",
       "  </tbody>\n",
       "</table>\n",
       "</div>"
      ],
      "text/plain": [
       "              Null Count\n",
       "Features                \n",
       "PoolQC              1449\n",
       "MiscFeature         1402\n",
       "Alley               1364\n",
       "Fence               1174\n",
       "FireplaceQu          689\n",
       "LotFrontage          258\n",
       "GarageYrBlt           81\n",
       "GarageCond            81\n",
       "GarageType            81\n",
       "GarageFinish          81\n",
       "GarageQual            81\n",
       "BsmtFinType2          38\n",
       "BsmtExposure          38\n",
       "BsmtQual              37\n",
       "BsmtCond              37\n",
       "BsmtFinType1          37\n",
       "MasVnrArea             8\n",
       "MasVnrType             8\n",
       "Electrical             1\n",
       "Id                     0\n",
       "Functional             0\n",
       "Fireplaces             0\n",
       "KitchenQual            0\n",
       "KitchenAbvGr           0\n",
       "BedroomAbvGr           0"
      ]
     },
     "execution_count": 14,
     "metadata": {},
     "output_type": "execute_result"
    }
   ],
   "source": [
    "nulls = pd.DataFrame(train.isnull().sum().sort_values(ascending=False)[:25])\n",
    "nulls.columns = [\"Null Count\"]\n",
    "nulls.index.name = 'Features'\n",
    "nulls"
   ]
  },
  {
   "cell_type": "markdown",
   "metadata": {},
   "source": [
    "**PoolQC**, the column refers to Pool Quality so we can understand Pool quality is NaN when PoolArea is 0, or there is no pool.\n",
    "\n",
    "We can find a similar relationship between many of the Garage-related columns.\n",
    "\n",
    "Let’s take a look at one of the other columns, **MiscFeature**. We’ll use the *Series.unique()* method to return a list of the unique values."
   ]
  },
  {
   "cell_type": "code",
   "execution_count": 15,
   "metadata": {},
   "outputs": [
    {
     "name": "stdout",
     "output_type": "stream",
     "text": [
      "Unique values:  [nan 'Shed' 'Gar2' 'Othr' 'TenC']\n"
     ]
    }
   ],
   "source": [
    "print(\"Unique values: \", train.MiscFeature.unique())"
   ]
  },
  {
   "cell_type": "markdown",
   "metadata": {},
   "source": [
    "By the documentation we can understand all the unique values.\n",
    "\n",
    "### Wrangling the non-numeric Features"
   ]
  },
  {
   "cell_type": "code",
   "execution_count": 16,
   "metadata": {},
   "outputs": [
    {
     "data": {
      "text/html": [
       "<div>\n",
       "<style scoped>\n",
       "    .dataframe tbody tr th:only-of-type {\n",
       "        vertical-align: middle;\n",
       "    }\n",
       "\n",
       "    .dataframe tbody tr th {\n",
       "        vertical-align: top;\n",
       "    }\n",
       "\n",
       "    .dataframe thead th {\n",
       "        text-align: right;\n",
       "    }\n",
       "</style>\n",
       "<table border=\"1\" class=\"dataframe\">\n",
       "  <thead>\n",
       "    <tr style=\"text-align: right;\">\n",
       "      <th></th>\n",
       "      <th>MSZoning</th>\n",
       "      <th>Street</th>\n",
       "      <th>Alley</th>\n",
       "      <th>LotShape</th>\n",
       "      <th>LandContour</th>\n",
       "      <th>Utilities</th>\n",
       "      <th>LotConfig</th>\n",
       "      <th>LandSlope</th>\n",
       "      <th>Neighborhood</th>\n",
       "      <th>Condition1</th>\n",
       "      <th>...</th>\n",
       "      <th>GarageType</th>\n",
       "      <th>GarageFinish</th>\n",
       "      <th>GarageQual</th>\n",
       "      <th>GarageCond</th>\n",
       "      <th>PavedDrive</th>\n",
       "      <th>PoolQC</th>\n",
       "      <th>Fence</th>\n",
       "      <th>MiscFeature</th>\n",
       "      <th>SaleType</th>\n",
       "      <th>SaleCondition</th>\n",
       "    </tr>\n",
       "  </thead>\n",
       "  <tbody>\n",
       "    <tr>\n",
       "      <th>count</th>\n",
       "      <td>1455</td>\n",
       "      <td>1455</td>\n",
       "      <td>91</td>\n",
       "      <td>1455</td>\n",
       "      <td>1455</td>\n",
       "      <td>1455</td>\n",
       "      <td>1455</td>\n",
       "      <td>1455</td>\n",
       "      <td>1455</td>\n",
       "      <td>1455</td>\n",
       "      <td>...</td>\n",
       "      <td>1374</td>\n",
       "      <td>1374</td>\n",
       "      <td>1374</td>\n",
       "      <td>1374</td>\n",
       "      <td>1455</td>\n",
       "      <td>6</td>\n",
       "      <td>281</td>\n",
       "      <td>53</td>\n",
       "      <td>1455</td>\n",
       "      <td>1455</td>\n",
       "    </tr>\n",
       "    <tr>\n",
       "      <th>unique</th>\n",
       "      <td>5</td>\n",
       "      <td>2</td>\n",
       "      <td>2</td>\n",
       "      <td>4</td>\n",
       "      <td>4</td>\n",
       "      <td>2</td>\n",
       "      <td>5</td>\n",
       "      <td>3</td>\n",
       "      <td>25</td>\n",
       "      <td>9</td>\n",
       "      <td>...</td>\n",
       "      <td>6</td>\n",
       "      <td>3</td>\n",
       "      <td>5</td>\n",
       "      <td>5</td>\n",
       "      <td>3</td>\n",
       "      <td>3</td>\n",
       "      <td>4</td>\n",
       "      <td>4</td>\n",
       "      <td>9</td>\n",
       "      <td>6</td>\n",
       "    </tr>\n",
       "    <tr>\n",
       "      <th>top</th>\n",
       "      <td>RL</td>\n",
       "      <td>Pave</td>\n",
       "      <td>Grvl</td>\n",
       "      <td>Reg</td>\n",
       "      <td>Lvl</td>\n",
       "      <td>AllPub</td>\n",
       "      <td>Inside</td>\n",
       "      <td>Gtl</td>\n",
       "      <td>NAmes</td>\n",
       "      <td>Norm</td>\n",
       "      <td>...</td>\n",
       "      <td>Attchd</td>\n",
       "      <td>Unf</td>\n",
       "      <td>TA</td>\n",
       "      <td>TA</td>\n",
       "      <td>Y</td>\n",
       "      <td>Gd</td>\n",
       "      <td>MnPrv</td>\n",
       "      <td>Shed</td>\n",
       "      <td>WD</td>\n",
       "      <td>Normal</td>\n",
       "    </tr>\n",
       "    <tr>\n",
       "      <th>freq</th>\n",
       "      <td>1147</td>\n",
       "      <td>1450</td>\n",
       "      <td>50</td>\n",
       "      <td>921</td>\n",
       "      <td>1309</td>\n",
       "      <td>1454</td>\n",
       "      <td>1048</td>\n",
       "      <td>1378</td>\n",
       "      <td>225</td>\n",
       "      <td>1257</td>\n",
       "      <td>...</td>\n",
       "      <td>867</td>\n",
       "      <td>605</td>\n",
       "      <td>1306</td>\n",
       "      <td>1321</td>\n",
       "      <td>1335</td>\n",
       "      <td>2</td>\n",
       "      <td>157</td>\n",
       "      <td>48</td>\n",
       "      <td>1266</td>\n",
       "      <td>1196</td>\n",
       "    </tr>\n",
       "  </tbody>\n",
       "</table>\n",
       "<p>4 rows × 43 columns</p>\n",
       "</div>"
      ],
      "text/plain": [
       "       MSZoning Street Alley LotShape LandContour Utilities LotConfig  \\\n",
       "count      1455   1455    91     1455        1455      1455      1455   \n",
       "unique        5      2     2        4           4         2         5   \n",
       "top          RL   Pave  Grvl      Reg         Lvl    AllPub    Inside   \n",
       "freq       1147   1450    50      921        1309      1454      1048   \n",
       "\n",
       "       LandSlope Neighborhood Condition1  ... GarageType GarageFinish  \\\n",
       "count       1455         1455       1455  ...       1374         1374   \n",
       "unique         3           25          9  ...          6            3   \n",
       "top          Gtl        NAmes       Norm  ...     Attchd          Unf   \n",
       "freq        1378          225       1257  ...        867          605   \n",
       "\n",
       "       GarageQual GarageCond PavedDrive PoolQC  Fence MiscFeature SaleType  \\\n",
       "count        1374       1374       1455      6    281          53     1455   \n",
       "unique          5          5          3      3      4           4        9   \n",
       "top            TA         TA          Y     Gd  MnPrv        Shed       WD   \n",
       "freq         1306       1321       1335      2    157          48     1266   \n",
       "\n",
       "       SaleCondition  \n",
       "count           1455  \n",
       "unique             6  \n",
       "top           Normal  \n",
       "freq            1196  \n",
       "\n",
       "[4 rows x 43 columns]"
      ]
     },
     "execution_count": 16,
     "metadata": {},
     "output_type": "execute_result"
    }
   ],
   "source": [
    "# Let's look for the non-numeric features\n",
    "categoricals = train.select_dtypes(exclude=[np.number])\n",
    "categoricals.describe()"
   ]
  },
  {
   "cell_type": "markdown",
   "metadata": {},
   "source": [
    "For many of these features, we might want to use *one-hot encoding* to make use of the information for modeling.\n",
    "One-hot encoding is a technique which will transform categorical data into numbers so the model can understand whether or not a particular observation falls into one category or another.\n",
    "\n",
    "## 2- Transforming and engineering features"
   ]
  },
  {
   "cell_type": "code",
   "execution_count": 21,
   "metadata": {},
   "outputs": [
    {
     "name": "stdout",
     "output_type": "stream",
     "text": [
      "Original unique values:\n",
      "Pave    1450\n",
      "Grvl       5\n",
      "Name: Street, dtype: int64 \n",
      "\n",
      "Encoded unique values:\n",
      "Pave    1450\n",
      "Grvl       5\n",
      "Name: Street, dtype: int64 \n",
      "\n"
     ]
    }
   ],
   "source": [
    "# column Street\n",
    "print(\"Original unique values:\")\n",
    "print(train.Street.value_counts(),\"\\n\")\n",
    "#Transform the data for our model\n",
    "train[\"enc_street\"] = pd.get_dummies(train.Street, drop_first=True)\n",
    "test[\"enc_street\"] = pd.get_dummies(test.Street, drop_first=True)\n",
    "print(\"Encoded unique values:\")\n",
    "print(train.Street.value_counts(),\"\\n\")"
   ]
  },
  {
   "cell_type": "code",
   "execution_count": 26,
   "metadata": {},
   "outputs": [
    {
     "data": {
      "image/png": "[encoded data removed]",
      "text/plain": [
       "<Figure size 720x432 with 1 Axes>"
      ]
     },
     "metadata": {},
     "output_type": "display_data"
    }
   ],
   "source": [
    "condition_pivot = train.pivot_table(\"SalePrice\", index=\"SaleCondition\",aggfunc=np.median)\n",
    "condition_pivot.plot(kind=\"bar\")\n",
    "plt.xlabel(\"SaleCondition\")\n",
    "plt.ylabel(\"Median SalePrice\")\n",
    "plt.xticks(rotation=0)\n",
    "plt.show()"
   ]
  }
 ],
 "metadata": {
  "interpreter": {
   "hash": "643985f69f89cfee59ccb9ceb257d9cb58c13bdd97c74d508c0964730dccc282"
  },
  "kernelspec": {
   "display_name": "Python 3.7.10 64-bit ('data_science': conda)",
   "language": "python",
   "name": "python3"
  },
  "language_info": {
   "codemirror_mode": {
    "name": "ipython",
    "version": 3
   },
   "file_extension": ".py",
   "mimetype": "text/x-python",
   "name": "python",
   "nbconvert_exporter": "python",
   "pygments_lexer": "ipython3",
   "version": "3.7.10"
  },
  "orig_nbformat": 4
 },
 "nbformat": 4,
 "nbformat_minor": 2
}
